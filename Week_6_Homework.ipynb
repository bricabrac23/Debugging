{
 "cells": [
  {
   "cell_type": "code",
   "execution_count": 1,
   "id": "43c61910",
   "metadata": {},
   "outputs": [
    {
     "name": "stdout",
     "output_type": "stream",
     "text": [
      "Hello World\n"
     ]
    }
   ],
   "source": []
  },
  {
   "cell_type": "code",
   "execution_count": 68,
   "id": "367710fd",
   "metadata": {},
   "outputs": [
    {
     "name": "stdout",
     "output_type": "stream",
     "text": [
      "1a: The error is in the double for loop\n",
      "1a: The error is in the double for loop\n",
      "1a: The error is in the double for loop\n",
      "1a: The error is in the double for loop\n",
      "1a: The error is in the double for loop\n",
      "1a: The error is in the double for loop\n",
      "1a: The error is in the double for loop\n",
      "1a: The error is in the double for loop\n",
      "1a: The error is in the double for loop\n",
      "1a: The correct answer is supposed to be [2, 3, 4]\n",
      " \n",
      "1b:[2, 3, 4]\n"
     ]
    }
   ],
   "source": [
    "def wrong_add_function(arg1,arg2):\n",
    "   '''\n",
    "   The function takes in two lists of integers, then it adds\n",
    "   all of arg2 to each item of arg1.\n",
    "   \n",
    "   Example:\n",
    "      > wrong_add_function([1,2,3],[1,1,1])\n",
    "      > [6,9,12]\n",
    "   whereas the expected correct answer is, [2,3,4]\n",
    "   Parameters\n",
    "   ----------\n",
    "   arg1 : list\n",
    "      list of integers.\n",
    "   arg2 : list\n",
    "      list of integers.\n",
    "   Returns\n",
    "   -------\n",
    "   arg1 : list\n",
    "      Elements of arg1, with each element having had the contents of \n",
    "      arg2 added to it.\n",
    "   '''\n",
    "   arg1_index=0\n",
    "   while arg1_index < len(arg1):\n",
    "      arg_2_sum = 0\n",
    "      for arg2_elements in arg2:\n",
    "         arg_2_sum = sum(arg1[arg1_index]+i for i in arg2)\n",
    "         print(\"1a: The error is in the double for loop\")\n",
    "      arg1[arg1_index]=arg_2_sum\n",
    "      arg1_index+=1\n",
    "   return arg1\n",
    "arg1 = [1,2,3]\n",
    "arg2 = [1,1,1]\n",
    "\n",
    "wrong_add_function(arg1, arg2)\n",
    "\n",
    "ans = [2,3,4]\n",
    "print(f\"1a: The correct answer is supposed to be {ans}\")\n",
    "\n",
    "def correct_add_function(arg1,arg2):\n",
    "   arg1_index=0\n",
    "   while arg1_index < len(arg1):\n",
    "      arg_2_sum = 0\n",
    "      for arg2_elements in arg2:\n",
    "         arg_2_sum = arg1[arg1_index] + arg2_elements\n",
    "      arg1[arg1_index]=arg_2_sum\n",
    "      arg1_index+=1\n",
    "   return arg1\n",
    "arg1 = [1,2,3]\n",
    "arg2 = [1,1,1]\n",
    "\n",
    "print(\" \")\n",
    "\n",
    "print(\"1b:\" + str(correct_add_function(arg1,arg2)))\n",
    "\n",
    "'''\n",
    "2.b\n",
    "Without modifying the string section code itself or the input directly, \n",
    "write a try, except block that catches the issue with the input below and \n",
    "returns an error message to the user, in case users give invalid inputs,\n",
    "(for example an input of [\"5\",\"2\", 5])\n",
    ": \"Your input argument [1 or 2] at element [n]\n",
    "is not of the expected type. Please change this and rerun. Name this function \n",
    "exception_add_function()\n",
    "'''\n",
    "\n"
   ]
  }
 ],
 "metadata": {
  "kernelspec": {
   "display_name": "Python 3.10.6 64-bit",
   "language": "python",
   "name": "python3"
  },
  "language_info": {
   "codemirror_mode": {
    "name": "ipython",
    "version": 3
   },
   "file_extension": ".py",
   "mimetype": "text/x-python",
   "name": "python",
   "nbconvert_exporter": "python",
   "pygments_lexer": "ipython3",
   "version": "3.10.6"
  },
  "vscode": {
   "interpreter": {
    "hash": "aee8b7b246df8f9039afb4144a1f6fd8d2ca17a180786b69acc140d282b71a49"
   }
  }
 },
 "nbformat": 4,
 "nbformat_minor": 5
}
